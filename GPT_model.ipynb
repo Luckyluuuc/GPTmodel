{
  "cells": [
    {
      "cell_type": "code",
      "execution_count": null,
      "metadata": {
        "colab": {
          "base_uri": "https://localhost:8080/"
        },
        "id": "5vSmTn7BgqLX",
        "outputId": "9c87b743-eedf-42a1-9dcb-18c799c32fab"
      },
      "outputs": [
        {
          "output_type": "stream",
          "name": "stdout",
          "text": [
            "GPU :  True\n"
          ]
        }
      ],
      "source": [
        "import torch\n",
        "\n",
        "debug =  False\n",
        "monitoring = False # set to true if you want to monitor during the training with the wandb librairie\n",
        "word_level = True #if word level is set to True the model will predict word by word , else character by character\n",
        "cfg = {\n",
        "    'description' :\"entrainement classique\",\n",
        "    'batch_size': 64,\n",
        "    'block_size': 128,\n",
        "    'max_iters': 3000,\n",
        "    'eval_interval': 200,\n",
        "    'learning_rate': 1e-4,\n",
        "    'device': 'cuda' if torch.cuda.is_available() else 'cpu',\n",
        "    'eval_iters': 200,\n",
        "    'n_embed': 256, #should be divisible by num_head\n",
        "    'num_heads': 8,\n",
        "    'num_blocks': 6,\n",
        "    'dropout': 0.4,\n",
        "    'fraction_training_data': 0.9,\n",
        "    'word_level' : word_level\n",
        "}\n",
        "\n",
        "torch.manual_seed(1337)\n",
        "print(\"GPU : \",  torch.cuda.is_available())\n"
      ]
    },
    {
      "cell_type": "code",
      "execution_count": null,
      "metadata": {
        "id": "YWw8O-VV8HRC"
      },
      "outputs": [],
      "source": [
        "# download libriairies, code and data that we need\n",
        "\n",
        "if monitoring : # install the librairie wandb to monitor the loss etc..\n",
        "  !pip install wandb\n",
        "\n",
        "#install gradio\n",
        "!pip install gradio\n",
        "#my files with classes and functions\n",
        "!wget https://raw.githubusercontent.com/Luckyluuuc/GPTmodel/main/src/model.py\n",
        "!wget https://raw.githubusercontent.com/Luckyluuuc/GPTmodel/main/src/utils.py\n",
        "#Training corpus:\n",
        "!wget https://raw.githubusercontent.com/Luckyluuuc/GPTmodel/main/data/harry-potter-7.txt"
      ]
    },
    {
      "cell_type": "code",
      "execution_count": null,
      "metadata": {
        "id": "tjrWhgLAgDgO"
      },
      "outputs": [],
      "source": [
        "#import the librairies\n",
        "\n",
        "#pytorch:\n",
        "# torch already imported above\n",
        "import torch.nn as nn\n",
        "from torch.nn import functional as F\n",
        "import torch.optim as optim\n",
        "\n",
        "\n",
        "#to monitor :\n",
        "if monitoring : import wandb\n",
        "from tqdm.auto import tqdm # for the progress bar\n",
        "import matplotlib.pyplot as plt\n",
        "\n",
        "\n",
        "# to have a nice interface to generate text\n",
        "import gradio as gr\n",
        "\n",
        "\n",
        "# my files\n",
        "from model import GPTmodel\n",
        "from utils import *"
      ]
    },
    {
      "cell_type": "code",
      "execution_count": null,
      "metadata": {
        "id": "M8zWmPxhFy_i"
      },
      "outputs": [],
      "source": [
        "if monitoring: wandb.init(project='GPT Harry potter word level', config=cfg)"
      ]
    },
    {
      "cell_type": "markdown",
      "metadata": {
        "id": "FNDDzOU1bMp-"
      },
      "source": [
        "### Download and prepare the data\n"
      ]
    },
    {
      "cell_type": "code",
      "execution_count": null,
      "metadata": {
        "colab": {
          "base_uri": "https://localhost:8080/"
        },
        "id": "jlxPV34vamEH",
        "outputId": "ab23253a-89a9-4a75-f234-6028387e1c82"
      },
      "outputs": [
        {
          "output_type": "stream",
          "name": "stdout",
          "text": [
            "length of dataset in characters:  1346804\n",
            "\n",
            "\n",
            " An extract of the data : \n",
            "\n",
            "\n",
            "  \u001b[31m  ? demanda le plus grand des deux.\n",
            "\n",
            "— Excellentes, répondit Severus Rogue.\n",
            "\n",
            "Le chemin était bordé à gauche par des mûriers sauvages aux tiges basses et, à droite, par une haute\n",
            "haie soigneusement taillée. Les longues capes des deux hommes ondulaient autour de leurs chevilles\n",
            "au rythme de leurs pas.\n",
            "\n",
            "— J’ai cru que j’allais arriver en retard, dit Yaxley, dont le visage taillé à coups de serpe apparaissait\n",
            "et disparaissait sous les branches des arbres qui masquaient par endroits la lueur de la lune. C’était un\n",
            "peu plus difficile que je ne l’avais pensé. Mais j’espère qu’il sera satisfait. Tu as l’air sûr de toi. Tu\n",
            "penses que tu seras bien reçu ?\n",
            "\n",
            "Rogue acquiesça d’un signe de tête mais ne donna pas de détails. Ils tournèrent à droite, dans une\n",
            "large allée qui s’éloignait du chemin. La haute haie suivit la même courbe, s’étendant au loin, par-\n",
            "delà l’impressionnant portail de fer forgé qui barrait la route des deux hommes. Ni l’un ni l’autre ne\n",
            "ralentit l’allure : sans un mot, ils levère\n",
            "\u001b[0m \n",
            "\n",
            "\n",
            " An extract of 20 tokens [' ', 'salut', ' ', 'et', ' ', 'traversèrent', ' ', 'la', '\\n', 'grille', ' ', 'comme', ' ', 'si', ' ', 'le', ' ', 'métal', ' ', 'sombre']\n"
          ]
        }
      ],
      "source": [
        "with open('/content/harry-potter-7.txt', 'r', encoding='utf-8') as f: # choose the training corpus here\n",
        "    text = f.read()\n",
        "print(\"length of dataset in characters: \", len(text))\n",
        "if len(text) < 1000000 : print(\"the length of the corpus is less than 1M characters it might be to small\")\n",
        "print( \"\\n\\n An extract of the data : \\n\\n\\n \" ,\"\\033[31m\", text[1000:2000])\n",
        "\n",
        "if word_level :\n",
        "  text = tokenize_text(text)\n",
        "\n",
        "print('\\033[0m', \"\\n\\n\\n\", \"An extract of 20 tokens\",list(text[1000:1020]))"
      ]
    },
    {
      "cell_type": "markdown",
      "metadata": {
        "id": "esV1rfQncxLV"
      },
      "source": [
        "### Create a map between characters and integers\n",
        "**Objective**: associate to each characters to an integers using dictionnaries"
      ]
    },
    {
      "cell_type": "code",
      "execution_count": null,
      "metadata": {
        "id": "JewWArZibmzp"
      },
      "outputs": [],
      "source": [
        "vocab_size, stoi, itos = mapp(text) #we assign to each token an integers and itos and stoi are the dictionnaries that allow to pass from one to the other and vice versa\n",
        "data_tok = encode(text, stoi) # we tranform our text into a list of integers thanks to the dictionnary stoi\n",
        "\n",
        "if debug:\n",
        "  print(\"vocab_size :\", vocab_size)\n",
        "  print(\"stoi :\", stoi)\n",
        "  print(\"itos :\", itos)\n",
        "  print(\"First 100 token of the encoded text : \", data_tok[:100])\n",
        "\n",
        "#splitting the data -> one for training and one for evaluating (cross_validation)\n",
        "\n",
        "train_set, validation_set = splitting_data(cfg.get('fraction_training_data'), data_tok)\n",
        "\n",
        "if debug:\n",
        "  print(\"\")\n",
        "  print(\"train set -> length :\", len(train_set))\n",
        "  print(train_set[:50])\n",
        "  print(\"validation set -> length :\", len(validation_set))\n",
        "  print(validation_set[:50])\n",
        "\n",
        "\n",
        "\n"
      ]
    },
    {
      "cell_type": "markdown",
      "metadata": {
        "id": "1DjvXjQl4JMH"
      },
      "source": [
        "### GPT Model"
      ]
    },
    {
      "cell_type": "code",
      "execution_count": null,
      "metadata": {
        "colab": {
          "base_uri": "https://localhost:8080/"
        },
        "id": "ks_6r6AEyc8R",
        "outputId": "ebbd48e4-0727-480e-bf71-72854e4b0571"
      },
      "outputs": [
        {
          "output_type": "stream",
          "name": "stdout",
          "text": [
            "\n",
            "touffuesrejetteinscritprononçait26ENQUÊTEcomportémonteessaierontmatièresentirmentonmanquantdébattrechuchotaapparutconsolermarchenthabiterasbraiséloupelégèrementsortVOTREsouciaitrépandantLorsfraisescapturésattendchansonvitesseabattaitbrûlaampleraisonnablementenvoyeraffirméattendronsFlagrancesemainerêvesépouseacharnementémergeaBarrrnyenleverinvinciblesVraimentdéfenseabattudeboutassistaitpossibilitéRavitraînanteWaoochaloupéeeffleurermarionnetteterritoiresapprochaitsuivierevêchesoulevaitbénéficionsfixéaffecterhurléfonctionsauceépargnerreviensAujourdagenouillerévidentfourprovoquéeélémentperceptiblesferméesbusteproblèmesmatérialisacombattonsdisposéesseuilduretésoutenucontrôlerEncorevoulonsamplifiarudimentairesentourégarantithabiterépugnaitinstantanément\n"
          ]
        }
      ],
      "source": [
        "m = GPTmodel(cfg, vocab_size)\n",
        "m = m.to(cfg.get('device'))\n",
        "\n",
        "#weight manager to save weigths\n",
        "w = WeightManager(\"/content/weights.pth\") #be careful to choose the right path\n",
        "# to test the model before training maybe we could make all of this in the generate function\n",
        "idx = torch.zeros((1,1), dtype=torch.long, device=cfg.get('device'))\n",
        "print(decode(m.generate(idx, max_new_tok=100)[0].tolist(), itos))"
      ]
    },
    {
      "cell_type": "code",
      "execution_count": 8,
      "metadata": {
        "colab": {
          "base_uri": "https://localhost:8080/",
          "height": 796,
          "referenced_widgets": [
            "aa9ffcd92d52454ba9da3b633e9d9982",
            "3fb30911d5034942ac6e5384f3e77905",
            "2ecb2b770ee64332b63c09b9c6749af4",
            "1394d8455a0f4dabb781d7fd156bd98b",
            "0b0d5c2c173541a0b7768a05933faab4",
            "85f0da4d8e9545c79757185c51b655e9",
            "ac47496d7dcb4969a54b75ee0006f339",
            "aa306e92826b4b538ebff5de82017355",
            "618c5a06261a4eb8ace71592029130a5",
            "1afecab4638d44aa980515234b4119b3",
            "6f57860b720e44a2b69b460a4ee909fa"
          ]
        },
        "id": "fZ6wdm4iiB72",
        "outputId": "3fe58be2-a022-4d03-f380-0df9594f98d0"
      },
      "outputs": [
        {
          "data": {
            "application/vnd.jupyter.widget-view+json": {
              "model_id": "aa9ffcd92d52454ba9da3b633e9d9982",
              "version_major": 2,
              "version_minor": 0
            },
            "text/plain": [
              "  0%|          | 0/3000 [00:00<?, ?it/s]"
            ]
          },
          "metadata": {},
          "output_type": "display_data"
        },
        {
          "output_type": "stream",
          "name": "stdout",
          "text": [
            "step 0/3000: train loss 9.7041, val loss 9.7015  Saving weights\n",
            "step 200/3000: train loss 3.6092, val loss 3.6246  Saving weights\n",
            "step 400/3000: train loss 3.4603, val loss 3.4894  Saving weights\n",
            "step 600/3000: train loss 3.4055, val loss 3.4553  Saving weights\n",
            "step 800/3000: train loss 3.3410, val loss 3.4002  Saving weights\n",
            "step 1000/3000: train loss 3.2339, val loss 3.2981  Saving weights\n",
            "step 1200/3000: train loss 3.1297, val loss 3.2081  Saving weights\n",
            "step 1400/3000: train loss 2.9990, val loss 3.0903  Saving weights\n",
            "step 1600/3000: train loss 2.8941, val loss 3.0061  Saving weights\n",
            "step 1800/3000: train loss 2.8091, val loss 2.9389  Saving weights\n",
            "step 2000/3000: train loss 2.7429, val loss 2.8859  Saving weights\n",
            "step 2200/3000: train loss 2.6838, val loss 2.8449  Saving weights\n",
            "step 2400/3000: train loss 2.6342, val loss 2.8138  Saving weights\n",
            "step 2600/3000: train loss 2.5931, val loss 2.7847  Saving weights\n",
            "step 2800/3000: train loss 2.5536, val loss 2.7580  Saving weights\n",
            "step 2999/3000: train loss 2.5192, val loss 2.7462  Saving weights\n",
            "\n",
            " End of training\n"
          ]
        },
        {
          "output_type": "display_data",
          "data": {
            "text/plain": [
              "<Figure size 640x480 with 1 Axes>"
            ],
            "image/png": "[encoded data removed]"
          },
          "metadata": {}
        }
      ],
      "source": [
        "#train the model\n",
        "#create the optimizer\n",
        "optimizer = torch.optim.AdamW(m.parameters(), lr=cfg.get(\"learning_rate\"))\n",
        "\n",
        "\n",
        "#train\n",
        "def training(m,w, max_iters, eval_interval, eval_iters, block_size, batch_size, device, train_set, validation_set ):\n",
        "\n",
        "  best_loss = 100\n",
        "  progress_bar = tqdm(range(max_iters)) # instanciation of the pogress bar\n",
        "  train_losses = []  # List to store training losses\n",
        "  val_losses = []  # List to store validation losses\n",
        "  step_values = []  # List to store step values\n",
        "\n",
        "\n",
        "  for step in range (max_iters):\n",
        "    xb, yb = get_batch(\"train\", block_size, batch_size , device, train_set, validation_set)\n",
        "\n",
        "    #evaluate the loss\n",
        "    if step % eval_interval == 0 or step==max_iters-1 :\n",
        "      losses = estimate_loss(m, eval_iters, train_set, validation_set, block_size, batch_size, device)\n",
        "      msg = \"\"\n",
        "      if losses['eval'] < best_loss:\n",
        "        best_loss = losses['eval']\n",
        "        w.save_weights(m)\n",
        "        msg = \"Saving weights\"\n",
        "      print(f\"step {step}/{max_iters}: train loss {losses['train']:.4f}, val loss {losses['eval']:.4f} \", msg)\n",
        "      if monitoring : wandb.log({'train_loss': losses['train'], 'eval_loss': losses['eval'], 'step': step})\n",
        "\n",
        "      # Append losses to the lists\n",
        "      train_losses.append(losses['train'])\n",
        "      val_losses.append(losses['eval'])\n",
        "      step_values.append(step)\n",
        "\n",
        "\n",
        "    logits, loss = m(xb, yb)\n",
        "\n",
        "    optimizer.zero_grad(set_to_none=True)\n",
        "    loss.backward()\n",
        "    optimizer.step()\n",
        "    progress_bar.update(1) #step by one the progress bar\n",
        "\n",
        "  print(\"\\n\",\"End of training\")\n",
        "\n",
        "  # Plot the losses\n",
        "  plt.plot(step_values, train_losses, label='Training Loss')\n",
        "  plt.plot(step_values, val_losses, label='Validation Loss')\n",
        "  plt.xlabel('Steps')\n",
        "  plt.ylabel('Loss')\n",
        "  plt.legend()\n",
        "  plt.show()\n",
        "\n",
        "training(m, w,  cfg.get('max_iters'), cfg.get('eval_interval'), cfg.get('eval_iters') , cfg.get('block_size'), cfg.get('batch_size'), cfg.get('device'), train_set, validation_set)\n",
        "\n"
      ]
    },
    {
      "cell_type": "code",
      "source": [
        "w.load_weights(m) #to load the state of the weight where the lost were the lower or if you have weights from a previous training\n",
        "m.eval()\n",
        "\n",
        "# generate with some context\n",
        "def completion(context=\"\\n\", length=100):\n",
        "  if word_level:\n",
        "    context = tokenize_text(context)\n",
        "  indices = [encode(context, stoi)]\n",
        "  print(indices)\n",
        "  idx = torch.tensor(indices, dtype=torch.long, device=cfg.get('device'))\n",
        "  output = m.generate(idx, max_new_tok=100)\n",
        "  return decode(m.generate(output, max_new_tok=length)[0].tolist(), itos)\n",
        "\n",
        "with gr.Blocks() as demo:\n",
        "    default_text = \"\\n\"\n",
        "    textbox = gr.Textbox(placeholder=\"Type here...\", lines=4, value=default_text)\n",
        "    btn = gr.Button(\"Autocomplete\")\n",
        "    slider = gr.Slider(label=\"length\", minimum=100, maximum=4000)\n",
        "\n",
        "    # define what will run when the button is clicked, here the textbox is used as both an input and an output\n",
        "    btn.click(fn=completion, inputs= [textbox,  slider], outputs=textbox, queue=False)\n",
        "\n",
        "demo.launch()\n"
      ],
      "metadata": {
        "id": "iO8tzY6z84KG",
        "colab": {
          "base_uri": "https://localhost:8080/",
          "height": 625
        },
        "outputId": "61ef5ed5-27f7-4bbf-947a-89fe3baa945c"
      },
      "execution_count": 10,
      "outputs": [
        {
          "output_type": "stream",
          "name": "stdout",
          "text": [
            "Setting queue=True in a Colab notebook requires sharing enabled. Setting `share=True` (you can turn this off by setting `share=False` in `launch()` explicitly).\n",
            "\n",
            "Colab notebook detected. To show errors in colab notebook, set debug=True in launch()\n",
            "Running on public URL: https://e83cbf1a2f22972e87.gradio.live\n",
            "\n",
            "This share link expires in 72 hours. For free permanent hosting and GPU upgrades, run `gradio deploy` from Terminal to deploy to Spaces (https://huggingface.co/spaces)\n"
          ]
        },
        {
          "output_type": "display_data",
          "data": {
            "text/plain": [
              "<IPython.core.display.HTML object>"
            ],
            "text/html": [
              "<div><iframe src=\"https://e83cbf1a2f22972e87.gradio.live\" width=\"100%\" height=\"500\" allow=\"autoplay; camera; microphone; clipboard-read; clipboard-write;\" frameborder=\"0\" allowfullscreen></iframe></div>"
            ]
          },
          "metadata": {}
        },
        {
          "output_type": "execute_result",
          "data": {
            "text/plain": []
          },
          "metadata": {},
          "execution_count": 10
        }
      ]
    }
  ],
  "metadata": {
    "accelerator": "GPU",
    "colab": {
      "provenance": []
    },
    "kernelspec": {
      "display_name": "Python 3",
      "name": "python3"
    },
    "language_info": {
      "name": "python"
    },
    "widgets": {
      "application/vnd.jupyter.widget-state+json": {
        "aa9ffcd92d52454ba9da3b633e9d9982": {
          "model_module": "@jupyter-widgets/controls",
          "model_name": "HBoxModel",
          "model_module_version": "1.5.0",
          "state": {
            "_dom_classes": [],
            "_model_module": "@jupyter-widgets/controls",
            "_model_module_version": "1.5.0",
            "_model_name": "HBoxModel",
            "_view_count": null,
            "_view_module": "@jupyter-widgets/controls",
            "_view_module_version": "1.5.0",
            "_view_name": "HBoxView",
            "box_style": "",
            "children": [
              "IPY_MODEL_3fb30911d5034942ac6e5384f3e77905",
              "IPY_MODEL_2ecb2b770ee64332b63c09b9c6749af4",
              "IPY_MODEL_1394d8455a0f4dabb781d7fd156bd98b"
            ],
            "layout": "IPY_MODEL_0b0d5c2c173541a0b7768a05933faab4"
          }
        },
        "3fb30911d5034942ac6e5384f3e77905": {
          "model_module": "@jupyter-widgets/controls",
          "model_name": "HTMLModel",
          "model_module_version": "1.5.0",
          "state": {
            "_dom_classes": [],
            "_model_module": "@jupyter-widgets/controls",
            "_model_module_version": "1.5.0",
            "_model_name": "HTMLModel",
            "_view_count": null,
            "_view_module": "@jupyter-widgets/controls",
            "_view_module_version": "1.5.0",
            "_view_name": "HTMLView",
            "description": "",
            "description_tooltip": null,
            "layout": "IPY_MODEL_85f0da4d8e9545c79757185c51b655e9",
            "placeholder": "​",
            "style": "IPY_MODEL_ac47496d7dcb4969a54b75ee0006f339",
            "value": "100%"
          }
        },
        "2ecb2b770ee64332b63c09b9c6749af4": {
          "model_module": "@jupyter-widgets/controls",
          "model_name": "FloatProgressModel",
          "model_module_version": "1.5.0",
          "state": {
            "_dom_classes": [],
            "_model_module": "@jupyter-widgets/controls",
            "_model_module_version": "1.5.0",
            "_model_name": "FloatProgressModel",
            "_view_count": null,
            "_view_module": "@jupyter-widgets/controls",
            "_view_module_version": "1.5.0",
            "_view_name": "ProgressView",
            "bar_style": "",
            "description": "",
            "description_tooltip": null,
            "layout": "IPY_MODEL_aa306e92826b4b538ebff5de82017355",
            "max": 3000,
            "min": 0,
            "orientation": "horizontal",
            "style": "IPY_MODEL_618c5a06261a4eb8ace71592029130a5",
            "value": 3000
          }
        },
        "1394d8455a0f4dabb781d7fd156bd98b": {
          "model_module": "@jupyter-widgets/controls",
          "model_name": "HTMLModel",
          "model_module_version": "1.5.0",
          "state": {
            "_dom_classes": [],
            "_model_module": "@jupyter-widgets/controls",
            "_model_module_version": "1.5.0",
            "_model_name": "HTMLModel",
            "_view_count": null,
            "_view_module": "@jupyter-widgets/controls",
            "_view_module_version": "1.5.0",
            "_view_name": "HTMLView",
            "description": "",
            "description_tooltip": null,
            "layout": "IPY_MODEL_1afecab4638d44aa980515234b4119b3",
            "placeholder": "​",
            "style": "IPY_MODEL_6f57860b720e44a2b69b460a4ee909fa",
            "value": " 3000/3000 [17:59&lt;00:00,  8.66s/it]"
          }
        },
        "0b0d5c2c173541a0b7768a05933faab4": {
          "model_module": "@jupyter-widgets/base",
          "model_name": "LayoutModel",
          "model_module_version": "1.2.0",
          "state": {
            "_model_module": "@jupyter-widgets/base",
            "_model_module_version": "1.2.0",
            "_model_name": "LayoutModel",
            "_view_count": null,
            "_view_module": "@jupyter-widgets/base",
            "_view_module_version": "1.2.0",
            "_view_name": "LayoutView",
            "align_content": null,
            "align_items": null,
            "align_self": null,
            "border": null,
            "bottom": null,
            "display": null,
            "flex": null,
            "flex_flow": null,
            "grid_area": null,
            "grid_auto_columns": null,
            "grid_auto_flow": null,
            "grid_auto_rows": null,
            "grid_column": null,
            "grid_gap": null,
            "grid_row": null,
            "grid_template_areas": null,
            "grid_template_columns": null,
            "grid_template_rows": null,
            "height": null,
            "justify_content": null,
            "justify_items": null,
            "left": null,
            "margin": null,
            "max_height": null,
            "max_width": null,
            "min_height": null,
            "min_width": null,
            "object_fit": null,
            "object_position": null,
            "order": null,
            "overflow": null,
            "overflow_x": null,
            "overflow_y": null,
            "padding": null,
            "right": null,
            "top": null,
            "visibility": null,
            "width": null
          }
        },
        "85f0da4d8e9545c79757185c51b655e9": {
          "model_module": "@jupyter-widgets/base",
          "model_name": "LayoutModel",
          "model_module_version": "1.2.0",
          "state": {
            "_model_module": "@jupyter-widgets/base",
            "_model_module_version": "1.2.0",
            "_model_name": "LayoutModel",
            "_view_count": null,
            "_view_module": "@jupyter-widgets/base",
            "_view_module_version": "1.2.0",
            "_view_name": "LayoutView",
            "align_content": null,
            "align_items": null,
            "align_self": null,
            "border": null,
            "bottom": null,
            "display": null,
            "flex": null,
            "flex_flow": null,
            "grid_area": null,
            "grid_auto_columns": null,
            "grid_auto_flow": null,
            "grid_auto_rows": null,
            "grid_column": null,
            "grid_gap": null,
            "grid_row": null,
            "grid_template_areas": null,
            "grid_template_columns": null,
            "grid_template_rows": null,
            "height": null,
            "justify_content": null,
            "justify_items": null,
            "left": null,
            "margin": null,
            "max_height": null,
            "max_width": null,
            "min_height": null,
            "min_width": null,
            "object_fit": null,
            "object_position": null,
            "order": null,
            "overflow": null,
            "overflow_x": null,
            "overflow_y": null,
            "padding": null,
            "right": null,
            "top": null,
            "visibility": null,
            "width": null
          }
        },
        "ac47496d7dcb4969a54b75ee0006f339": {
          "model_module": "@jupyter-widgets/controls",
          "model_name": "DescriptionStyleModel",
          "model_module_version": "1.5.0",
          "state": {
            "_model_module": "@jupyter-widgets/controls",
            "_model_module_version": "1.5.0",
            "_model_name": "DescriptionStyleModel",
            "_view_count": null,
            "_view_module": "@jupyter-widgets/base",
            "_view_module_version": "1.2.0",
            "_view_name": "StyleView",
            "description_width": ""
          }
        },
        "aa306e92826b4b538ebff5de82017355": {
          "model_module": "@jupyter-widgets/base",
          "model_name": "LayoutModel",
          "model_module_version": "1.2.0",
          "state": {
            "_model_module": "@jupyter-widgets/base",
            "_model_module_version": "1.2.0",
            "_model_name": "LayoutModel",
            "_view_count": null,
            "_view_module": "@jupyter-widgets/base",
            "_view_module_version": "1.2.0",
            "_view_name": "LayoutView",
            "align_content": null,
            "align_items": null,
            "align_self": null,
            "border": null,
            "bottom": null,
            "display": null,
            "flex": null,
            "flex_flow": null,
            "grid_area": null,
            "grid_auto_columns": null,
            "grid_auto_flow": null,
            "grid_auto_rows": null,
            "grid_column": null,
            "grid_gap": null,
            "grid_row": null,
            "grid_template_areas": null,
            "grid_template_columns": null,
            "grid_template_rows": null,
            "height": null,
            "justify_content": null,
            "justify_items": null,
            "left": null,
            "margin": null,
            "max_height": null,
            "max_width": null,
            "min_height": null,
            "min_width": null,
            "object_fit": null,
            "object_position": null,
            "order": null,
            "overflow": null,
            "overflow_x": null,
            "overflow_y": null,
            "padding": null,
            "right": null,
            "top": null,
            "visibility": null,
            "width": null
          }
        },
        "618c5a06261a4eb8ace71592029130a5": {
          "model_module": "@jupyter-widgets/controls",
          "model_name": "ProgressStyleModel",
          "model_module_version": "1.5.0",
          "state": {
            "_model_module": "@jupyter-widgets/controls",
            "_model_module_version": "1.5.0",
            "_model_name": "ProgressStyleModel",
            "_view_count": null,
            "_view_module": "@jupyter-widgets/base",
            "_view_module_version": "1.2.0",
            "_view_name": "StyleView",
            "bar_color": null,
            "description_width": ""
          }
        },
        "1afecab4638d44aa980515234b4119b3": {
          "model_module": "@jupyter-widgets/base",
          "model_name": "LayoutModel",
          "model_module_version": "1.2.0",
          "state": {
            "_model_module": "@jupyter-widgets/base",
            "_model_module_version": "1.2.0",
            "_model_name": "LayoutModel",
            "_view_count": null,
            "_view_module": "@jupyter-widgets/base",
            "_view_module_version": "1.2.0",
            "_view_name": "LayoutView",
            "align_content": null,
            "align_items": null,
            "align_self": null,
            "border": null,
            "bottom": null,
            "display": null,
            "flex": null,
            "flex_flow": null,
            "grid_area": null,
            "grid_auto_columns": null,
            "grid_auto_flow": null,
            "grid_auto_rows": null,
            "grid_column": null,
            "grid_gap": null,
            "grid_row": null,
            "grid_template_areas": null,
            "grid_template_columns": null,
            "grid_template_rows": null,
            "height": null,
            "justify_content": null,
            "justify_items": null,
            "left": null,
            "margin": null,
            "max_height": null,
            "max_width": null,
            "min_height": null,
            "min_width": null,
            "object_fit": null,
            "object_position": null,
            "order": null,
            "overflow": null,
            "overflow_x": null,
            "overflow_y": null,
            "padding": null,
            "right": null,
            "top": null,
            "visibility": null,
            "width": null
          }
        },
        "6f57860b720e44a2b69b460a4ee909fa": {
          "model_module": "@jupyter-widgets/controls",
          "model_name": "DescriptionStyleModel",
          "model_module_version": "1.5.0",
          "state": {
            "_model_module": "@jupyter-widgets/controls",
            "_model_module_version": "1.5.0",
            "_model_name": "DescriptionStyleModel",
            "_view_count": null,
            "_view_module": "@jupyter-widgets/base",
            "_view_module_version": "1.2.0",
            "_view_name": "StyleView",
            "description_width": ""
          }
        }
      }
    }
  },
  "nbformat": 4,
  "nbformat_minor": 0
}
